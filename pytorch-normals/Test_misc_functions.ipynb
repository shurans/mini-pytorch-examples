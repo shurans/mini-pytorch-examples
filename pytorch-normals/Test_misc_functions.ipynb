{
 "cells": [
  {
   "cell_type": "markdown",
   "metadata": {},
   "source": [
    "# Test Misc Functions\n",
    "This notebook contains snippets of code used to test various functions. \n",
    "\n",
    "Some functions take the source data as input to perform operations. This assumes that the data processing has been done, please check paths.\n",
    "\n",
    "Some functions generate output files, which are stored in the folder data/samples/<some name>. If this does not exist, an error will be thrown, generate this folder first."
   ]
  },
  {
   "cell_type": "markdown",
   "metadata": {},
   "source": [
    "# Reading/Writing HDF5 .h5 files\n",
    "This is used to convert the output of the surface normal prediction model to suitable input format for the depth2depth module. "
   ]
  },
  {
   "cell_type": "code",
   "execution_count": null,
   "metadata": {},
   "outputs": [],
   "source": [
    "import h5py\n",
    "import numpy as np\n",
    "import os\n",
    "\n",
    "'''This will read in an hdf5 file as reference, and save the contents back to a tmp file. After that\n",
    "it reads the contensts of saved file and compares to original file.\n",
    "\n",
    "NOTE: This is used to save surface normals in .h5 file for depth2depth module. The expected shape in (3, h, w), float32.\n",
    "'''\n",
    "\n",
    "### Reading a file\n",
    "path_h5 = 'data/depth2depth_sample_files/normal_scannet_realsense_test/realsense_004_normal_est.h5'\n",
    "path_h5_test = 'data/samples/surface_normal_hdf5/mytestfile.h5'\n",
    "h5_key = 'result'\n",
    "\n",
    "print('Reading hdf5 file \\'{}\\' ...\\n'.format(path_h5))\n",
    "f = h5py.File(path_h5, 'r')\n",
    "\n",
    "f_keys = list(f.keys())\n",
    "print('f_keys:', f_keys)\n",
    "\n",
    "dset = f[h5_key]\n",
    "print('dset.shape:', dset.shape)\n",
    "print('dset.dtype:', dset.dtype)\n",
    "print('dset.name:', dset.name)\n",
    "print('---')\n",
    "\n",
    "# Reading values from a HDF5 dataset\n",
    "dset_data = dset[()]\n",
    "print('datatype in dataset: ', type(dset_data))\n",
    "\n",
    "### Writing a file\n",
    "with h5py.File(path_h5_test, \"w\") as f:\n",
    "    dset2 = f.create_dataset('/result', data=dset_data)\n",
    "    \n",
    "\n",
    "### Reading back contents of written file\n",
    "with h5py.File(path_h5_test, 'r') as f:\n",
    "    f_keys = list(f.keys())\n",
    "    print('List keys: ', f_keys)\n",
    "    dset2 = f[h5_key]\n",
    "    dset2_data = dset2[:]\n",
    "\n",
    "if np.array_equal(dset_data, dset2_data):\n",
    "    print('2 arrays equal')\n",
    "else:\n",
    "    print('2 arrays not equal')\n",
    "\n"
   ]
  }
 ],
 "metadata": {
  "kernelspec": {
   "display_name": "Python 3",
   "language": "python",
   "name": "python3"
  },
  "language_info": {
   "codemirror_mode": {
    "name": "ipython",
    "version": 3
   },
   "file_extension": ".py",
   "mimetype": "text/x-python",
   "name": "python",
   "nbconvert_exporter": "python",
   "pygments_lexer": "ipython3",
   "version": "3.6.8"
  }
 },
 "nbformat": 4,
 "nbformat_minor": 2
}
