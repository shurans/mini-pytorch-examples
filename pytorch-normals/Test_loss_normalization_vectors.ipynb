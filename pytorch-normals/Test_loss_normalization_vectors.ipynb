{
 "cells": [
  {
   "cell_type": "markdown",
   "metadata": {},
   "source": [
    "# Surface Normal Model Utility functions"
   ]
  },
  {
   "cell_type": "code",
   "execution_count": 2,
   "metadata": {},
   "outputs": [],
   "source": [
    "import sys\n",
    "sys.path.append('./models/')\n",
    "import torch\n",
    "import torch.nn as nn\n",
    "import numpy as np\n",
    "import matplotlib.pyplot as plt\n",
    "import time\n",
    "import os"
   ]
  },
  {
   "cell_type": "markdown",
   "metadata": {},
   "source": [
    "## Test of Loss function for surface normal vectors"
   ]
  },
  {
   "cell_type": "code",
   "execution_count": 9,
   "metadata": {},
   "outputs": [
    {
     "name": "stdout",
     "output_type": "stream",
     "text": [
      "Orig vector (only first one printed):\n",
      "tensor([[[[-0.2534, -0.5149,  1.6493,  0.7740, -2.1743],\n",
      "          [ 0.9406, -0.7726, -0.5870, -3.0862, -0.2586],\n",
      "          [-0.2336,  0.1946, -0.5431,  0.2082, -0.4474],\n",
      "          [ 2.0481, -0.2056,  0.4359, -0.7448, -0.3045],\n",
      "          [-0.2991, -0.0076,  0.0273,  1.1128, -0.5613]],\n",
      "\n",
      "         [[-0.4597,  0.0863, -0.9023,  0.0209,  0.8687],\n",
      "          [-0.8005,  0.1080,  0.8968,  0.2016, -1.4164],\n",
      "          [ 1.4485,  1.5667, -0.5037, -0.4473, -0.8389],\n",
      "          [-0.6640,  0.8778,  0.2664,  1.0980,  0.9897],\n",
      "          [-2.4417,  0.1973, -0.3053,  0.1241, -1.6185]],\n",
      "\n",
      "         [[ 1.2266, -0.0581, -1.4383, -0.8589,  0.7094],\n",
      "          [-0.0147,  1.3564,  0.9895,  0.9950,  0.8161],\n",
      "          [ 0.2097, -0.2638,  2.4874,  2.1679, -0.7313],\n",
      "          [ 2.0223, -0.7119, -0.7906,  1.4216, -0.1946],\n",
      "          [ 1.0260, -0.7382,  0.6290,  0.7016,  0.9752]]],\n",
      "\n",
      "\n",
      "        [[[ 0.0475,  0.4140,  0.3558,  0.9755,  0.2723],\n",
      "          [-1.8639,  0.9670, -0.3631, -0.1121,  0.4900],\n",
      "          [-2.4841,  2.6244,  0.8115, -0.5515, -0.3816],\n",
      "          [ 0.6577,  0.9012,  0.0440, -2.2427,  0.0582],\n",
      "          [-0.6387, -1.2271,  0.7553, -0.4877, -0.7868]],\n",
      "\n",
      "         [[-0.7244, -0.7067,  0.6876,  1.3439,  0.6771],\n",
      "          [-0.6387, -0.6453,  1.0588,  0.6164,  0.1163],\n",
      "          [-0.3312,  1.6382,  2.1193, -1.1332,  0.7577],\n",
      "          [ 0.8534, -1.5560,  1.1638, -1.0941,  0.2310],\n",
      "          [ 0.5210, -0.7845,  0.8746, -0.0927,  1.5135]],\n",
      "\n",
      "         [[-0.4324, -1.6340, -0.0549,  0.5842, -0.4777],\n",
      "          [-0.2739, -0.5235, -1.4353,  0.7172, -0.9183],\n",
      "          [-0.6753, -1.7948, -0.4514, -0.6369, -0.4635],\n",
      "          [-1.1172, -1.0896,  1.0126, -0.7888,  0.2219],\n",
      "          [ 1.0051,  1.1094, -0.9750,  0.3015,  1.6522]]]])\n",
      "\n",
      "CosineEmbeddingLoss\n",
      "tensor([[[0.9696, 1.6635, 0.5313, 1.7096, 0.0074],\n",
      "         [1.6602, 1.9560, 1.7754, 0.7568, 0.1017],\n",
      "         [0.4100, 1.7228, 0.3223, 1.1858, 1.7103],\n",
      "         [0.8886, 1.6964, 0.3340, 1.4373, 0.4312],\n",
      "         [1.1821, 0.7281, 0.3921, 1.3466, 0.9975]],\n",
      "\n",
      "        [[0.8144, 0.1843, 1.9841, 1.7844, 1.9512],\n",
      "         [1.4007, 1.6560, 1.0182, 0.2465, 0.6120],\n",
      "         [1.4773, 0.7876, 1.4670, 1.9756, 0.1224],\n",
      "         [0.6512, 1.6874, 1.8898, 0.7923, 1.0656],\n",
      "         [1.1211, 1.3832, 0.9761, 1.3001, 0.0785]]])\n",
      "\n",
      "Cosine Similarity Matrix\n",
      "tensor([[[0.9696, 1.6635, 0.5313, 1.7096, 0.0074],\n",
      "         [1.6602, 1.9560, 1.7754, 0.7568, 0.1017],\n",
      "         [0.4100, 1.7228, 0.3223, 1.1858, 1.7103],\n",
      "         [0.8886, 1.6964, 0.3340, 1.4373, 0.4312],\n",
      "         [1.1821, 0.7281, 0.3921, 1.3466, 0.9975]],\n",
      "\n",
      "        [[0.8144, 0.1843, 1.9841, 1.7844, 1.9512],\n",
      "         [1.4007, 1.6560, 1.0182, 0.2465, 0.6120],\n",
      "         [1.4773, 0.7876, 1.4670, 1.9756, 0.1224],\n",
      "         [0.6512, 1.6874, 1.8898, 0.7923, 1.0656],\n",
      "         [1.1211, 1.3832, 0.9761, 1.3001, 0.0785]]])\n",
      "Cosine Similarity mean loss\n",
      "tensor(1.0869)\n"
     ]
    },
    {
     "ename": "RuntimeError",
     "evalue": "The shape of the mask [3, 5, 5] at index 0 does not match the shape of the indexed tensor [2, 5, 5] at index 0",
     "output_type": "error",
     "traceback": [
      "\u001b[0;31m---------------------------------------------------------------------------\u001b[0m",
      "\u001b[0;31mRuntimeError\u001b[0m                              Traceback (most recent call last)",
      "\u001b[0;32m<ipython-input-9-1c646c94d7b4>\u001b[0m in \u001b[0;36m<module>\u001b[0;34m()\u001b[0m\n\u001b[1;32m     27\u001b[0m \u001b[0mb\u001b[0m \u001b[0;34m=\u001b[0m \u001b[0mtorch\u001b[0m\u001b[0;34m.\u001b[0m\u001b[0msum\u001b[0m\u001b[0;34m(\u001b[0m\u001b[0mx\u001b[0m\u001b[0;34m*\u001b[0m\u001b[0my\u001b[0m\u001b[0;34m,\u001b[0m\u001b[0;36m1\u001b[0m\u001b[0;34m)\u001b[0m\u001b[0;34m\u001b[0m\u001b[0m\n\u001b[1;32m     28\u001b[0m \u001b[0ma\u001b[0m\u001b[0;34m[\u001b[0m\u001b[0ma\u001b[0m\u001b[0;34m==\u001b[0m\u001b[0;36m0\u001b[0m\u001b[0;34m]\u001b[0m \u001b[0;34m=\u001b[0m \u001b[0;36m1\u001b[0m\u001b[0;34m\u001b[0m\u001b[0m\n\u001b[0;32m---> 29\u001b[0;31m \u001b[0mb\u001b[0m\u001b[0;34m[\u001b[0m\u001b[0ma\u001b[0m\u001b[0;34m==\u001b[0m\u001b[0;36m0\u001b[0m\u001b[0;34m]\u001b[0m \u001b[0;34m=\u001b[0m \u001b[0;36m1\u001b[0m\u001b[0;34m\u001b[0m\u001b[0m\n\u001b[0m\u001b[1;32m     30\u001b[0m \u001b[0mdistance\u001b[0m \u001b[0;34m=\u001b[0m \u001b[0;36m1\u001b[0m \u001b[0;34m-\u001b[0m \u001b[0;34m(\u001b[0m \u001b[0mb\u001b[0m \u001b[0;34m/\u001b[0m \u001b[0ma\u001b[0m\u001b[0;34m)\u001b[0m\u001b[0;34m\u001b[0m\u001b[0m\n\u001b[1;32m     31\u001b[0m \u001b[0mtotloss\u001b[0m \u001b[0;34m=\u001b[0m \u001b[0mtorch\u001b[0m\u001b[0;34m.\u001b[0m\u001b[0mmean\u001b[0m\u001b[0;34m(\u001b[0m\u001b[0mdistance\u001b[0m\u001b[0;34m)\u001b[0m\u001b[0;34m\u001b[0m\u001b[0m\n",
      "\u001b[0;31mRuntimeError\u001b[0m: The shape of the mask [3, 5, 5] at index 0 does not match the shape of the indexed tensor [2, 5, 5] at index 0"
     ]
    }
   ],
   "source": [
    "# x = torch.autograd.Variable(torch.randn(3, 5) )\n",
    "# y = torch.autograd.Variable(torch.randn(3, 5) )\n",
    "x = torch.autograd.Variable(torch.randn(2, 3, 5, 5) )\n",
    "y = torch.autograd.Variable(torch.randn(2, 3, 5, 5) )\n",
    "print('Orig vector (only first one printed):')\n",
    "print(x)\n",
    "target2 = torch.autograd.Variable(torch.tensor([1], dtype=torch.float))\n",
    "\n",
    "#CosineEmbeddingLoss\n",
    "loss_fn = torch.nn.CosineEmbeddingLoss(reduction='none') #NOTE: elementwise_mean apparently doesn't work\n",
    "z0 = loss_fn(x, y, target2)\n",
    "print('\\nCosineEmbeddingLoss')\n",
    "print(z0)\n",
    "\n",
    "#CosineSimilarity\n",
    "cos = nn.CosineSimilarity(dim=1, eps=1e-6)\n",
    "loss_fn = 1 - cos(x,y)\n",
    "print('\\nCosine Similarity Matrix')\n",
    "print(loss_fn)\n",
    "loss_fn = torch.mean( loss_fn )\n",
    "print('Cosine Similarity mean loss')\n",
    "print(loss_fn)\n",
    "        \n",
    "\n",
    "#Custom Code\n",
    "a = (x.norm(p=2,dim=0)*y.norm(p=2,dim=0))\n",
    "b = torch.sum(x*y,1)\n",
    "a[a==0] = 1\n",
    "b[a==0] = 1\n",
    "distance = 1 - ( b / a)\n",
    "totloss = torch.mean(distance)\n",
    "print('\\nShuran\\'s Loss func')\n",
    "print(totloss)"
   ]
  },
  {
   "cell_type": "markdown",
   "metadata": {},
   "source": [
    "## Test of Normalization Function for surface normal vectors"
   ]
  },
  {
   "cell_type": "code",
   "execution_count": 9,
   "metadata": {},
   "outputs": [
    {
     "name": "stdout",
     "output_type": "stream",
     "text": [
      "Tensor k:\n",
      "tensor([[0.5000, 0.1000],\n",
      "        [0.2000, 0.5000]])\n",
      "\n",
      "Normalized Tensor, along dim 1 (column):\n",
      "tensor([[0.9806, 0.1961],\n",
      "        [0.3714, 0.9285]])\n"
     ]
    }
   ],
   "source": [
    "k = torch.tensor([[0.5, 0.1],[0.2,0.5]], dtype=torch.float)\n",
    "print('Tensor k:')\n",
    "print(k)\n",
    "print('\\nNormalized Tensor, along dim 1 (column):')\n",
    "print(nn.functional.normalize(k, p=2, dim=1))"
   ]
  }
 ],
 "metadata": {
  "language_info": {
   "codemirror_mode": {
    "name": "ipython",
    "version": 3
   },
   "file_extension": ".py",
   "mimetype": "text/x-python",
   "name": "python",
   "nbconvert_exporter": "python",
   "pygments_lexer": "ipython3",
   "version": "3.6.6"
  }
 },
 "nbformat": 4,
 "nbformat_minor": 2
}
