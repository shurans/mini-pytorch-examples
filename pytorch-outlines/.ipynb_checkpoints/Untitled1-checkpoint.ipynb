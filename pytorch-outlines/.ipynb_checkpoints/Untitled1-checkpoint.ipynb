{
 "cells": [
  {
   "cell_type": "code",
   "execution_count": 3,
   "metadata": {},
   "outputs": [],
   "source": [
    "import imageio\n",
    "import cv2\n",
    "import sys\n",
    "import numpy as np\n",
    "import matplotlib.pyplot as plt\n",
    "import time\n",
    "import os\n",
    "from PIL import Image"
   ]
  },
  {
   "cell_type": "code",
   "execution_count": 23,
   "metadata": {},
   "outputs": [
    {
     "name": "stdout",
     "output_type": "stream",
     "text": [
      "(240, 320)\n",
      "[[   0    0    0 ...    0    0    0]\n",
      " [   0  772  802 ...  802 1000 1000]\n",
      " [   0  724  813 ...   38  953  965]\n",
      " ...\n",
      " [   0  482  550 ...  176  187  270]\n",
      " [   0  285  340 ...  199  270  242]\n",
      " [   0  138  132 ...  306  306  247]]\n"
     ]
    }
   ],
   "source": [
    "img_path = '/home/shrek/greppy/brain/surface-normals/models/DeepCompletionRelease/torch/result/bound_realsense_test_bound/realsense_004_bound_est.png'\n",
    "\n",
    "# brain/surface-normals/references/DeepCompletionRelease/torch/result/bound_realsense_test_bound/realsense_004_bound_est.png\n",
    "\n",
    "file = Image.open(img_path)\n",
    "file_arr = np.array(file).astype(np.float64)/255\n",
    "\n",
    "\n",
    "\n",
    "# file_arr = file_arr\n",
    "weight = (1-file_arr[:,:,1])\n",
    "# print(weight[1,1])\n",
    "x = np.power(weight,3)\n",
    "x = np.multiply(x,1000)\n",
    "# print(x[1,1])\n",
    "\n",
    "final_weight = x.astype(np.uint16)\n",
    "print(final_weight.shape)\n",
    "print(final_weight)\n",
    "\n",
    "# imageio.imwrite('weights.png', final_weight)\n",
    "array_buffer = final_weight.tobytes()\n",
    "img = Image.new(\"I\", final_weight.T.shape)\n",
    "img.frombytes(array_buffer, 'raw', 'I;16')\n",
    "img.save('weights_2.png')\n",
    "\n",
    "# imwrite(uint16(weight*1000), fullfile(output_dir, strrep(files(a).name, '_bound_est.png', '_weight.png')))\n",
    "\n",
    "\n",
    "\n",
    "# x = np.array([1,2,3])\n",
    "# y = np.array([1,2,3])\n",
    "\n",
    "# z = np.multiply(x,y)\n",
    "# print(z)\n",
    "# q = np.multiply(z,x)\n",
    "# print(q)"
   ]
  },
  {
   "cell_type": "code",
   "execution_count": 22,
   "metadata": {},
   "outputs": [
    {
     "name": "stdout",
     "output_type": "stream",
     "text": [
      "[[   0    0    0 ...    0    0    0]\n",
      " [   0  773  803 ...  803 1000 1000]\n",
      " [   0  724  813 ...   38  954  965]\n",
      " ...\n",
      " [   0  482  551 ...  176  188  271]\n",
      " [   0  286  340 ...  199  271  242]\n",
      " [   0  139  132 ...  307  307  247]]\n"
     ]
    }
   ],
   "source": [
    "import imageio\n",
    "import cv2\n",
    "import sys\n",
    "import numpy as np\n",
    "import matplotlib.pyplot as plt\n",
    "import time\n",
    "import os\n",
    "from PIL import Image\n",
    "\n",
    "path_img = '/home/shrek/greppy/brain/surface-normals/references/DeepCompletionRelease/torch/result/bound_realsense_weight/realsense_004_weight.png'\n",
    "\n",
    "weight = Image.open(path_img)\n",
    "weight = np.array(weight)\n",
    "print(weight)"
   ]
  }
 ],
 "metadata": {
  "kernelspec": {
   "display_name": "Python 3",
   "language": "python",
   "name": "python3"
  },
  "language_info": {
   "codemirror_mode": {
    "name": "ipython",
    "version": 3
   },
   "file_extension": ".py",
   "mimetype": "text/x-python",
   "name": "python",
   "nbconvert_exporter": "python",
   "pygments_lexer": "ipython3",
   "version": "3.6.7"
  }
 },
 "nbformat": 4,
 "nbformat_minor": 2
}
